{
 "cells": [
  {
   "cell_type": "code",
   "execution_count": 3,
   "metadata": {},
   "outputs": [
    {
     "ename": "ModuleNotFoundError",
     "evalue": "No module named 'plotly.offline'; 'plotly' is not a package",
     "output_type": "error",
     "traceback": [
      "\u001b[1;31m---------------------------------------------------------------------------\u001b[0m",
      "\u001b[1;31mModuleNotFoundError\u001b[0m                       Traceback (most recent call last)",
      "\u001b[1;32m<ipython-input-3-6adac40abd41>\u001b[0m in \u001b[0;36m<module>\u001b[1;34m()\u001b[0m\n\u001b[0;32m     12\u001b[0m \u001b[1;32mfrom\u001b[0m \u001b[0msklearn\u001b[0m \u001b[1;32mimport\u001b[0m \u001b[0mpreprocessing\u001b[0m\u001b[1;33m\u001b[0m\u001b[0m\n\u001b[0;32m     13\u001b[0m \u001b[1;33m\u001b[0m\u001b[0m\n\u001b[1;32m---> 14\u001b[1;33m \u001b[1;32mfrom\u001b[0m \u001b[0mplotly\u001b[0m\u001b[1;33m.\u001b[0m\u001b[0moffline\u001b[0m \u001b[1;32mimport\u001b[0m \u001b[0miplot\u001b[0m\u001b[1;33m,\u001b[0m \u001b[0minit_notebook_mode\u001b[0m\u001b[1;33m\u001b[0m\u001b[0m\n\u001b[0m\u001b[0;32m     15\u001b[0m \u001b[1;31m#import plotly.offline as offline\u001b[0m\u001b[1;33m\u001b[0m\u001b[1;33m\u001b[0m\u001b[0m\n\u001b[0;32m     16\u001b[0m \u001b[1;32mimport\u001b[0m \u001b[0mplotly\u001b[0m\u001b[1;33m.\u001b[0m\u001b[0mgraph_objs\u001b[0m \u001b[1;32mas\u001b[0m \u001b[0mgo\u001b[0m\u001b[1;33m\u001b[0m\u001b[0m\n",
      "\u001b[1;31mModuleNotFoundError\u001b[0m: No module named 'plotly.offline'; 'plotly' is not a package"
     ]
    }
   ],
   "source": [
    "# -*- coding: utf-8 -*-\n",
    "\"\"\"\n",
    "Created on Sun Sep 17 05:30:36 2017\n",
    "\n",
    "@author: Terada\n",
    "\"\"\"\n",
    "\n",
    "import os\n",
    "import numpy as np\n",
    "import cv2\n",
    "from sklearn.manifold import TSNE\n",
    "from sklearn import preprocessing\n",
    "\n",
    "from plotly.offline import iplot, init_notebook_mode\n",
    "#import plotly.offline as offline\n",
    "import plotly.graph_objs as go\n",
    "init_notebook_mode()\n",
    "\n"
   ]
  },
  {
   "cell_type": "code",
   "execution_count": null,
   "metadata": {},
   "outputs": [
    {
     "name": "stdout",
     "output_type": "stream",
     "text": [
      "[t-SNE] Computing 91 nearest neighbors...\n",
      "[t-SNE] Indexed 1440 samples in 0.057s...\n",
      "[t-SNE] Computed neighbors for 1440 samples in 2.690s...\n",
      "[t-SNE] Computed conditional probabilities for sample 1000 / 1440\n",
      "[t-SNE] Computed conditional probabilities for sample 1440 / 1440\n",
      "[t-SNE] Mean sigma: 0.147835\n",
      "[t-SNE] Computed conditional probabilities in 0.049s\n",
      "[t-SNE] Iteration 50: error = 72.2030640, gradient norm = 0.4542490 (50 iterations in 3.192s)\n",
      "[t-SNE] Iteration 100: error = 76.9281540, gradient norm = 0.4161399 (50 iterations in 2.641s)\n",
      "[t-SNE] Iteration 150: error = 80.9797211, gradient norm = 0.4008673 (50 iterations in 2.525s)\n",
      "[t-SNE] Iteration 200: error = 85.2198639, gradient norm = 0.3878705 (50 iterations in 2.573s)\n",
      "[t-SNE] Iteration 250: error = 86.2767334, gradient norm = 0.3727704 (50 iterations in 2.755s)\n",
      "[t-SNE] KL divergence after 250 iterations with early exaggeration: 86.276733\n",
      "[t-SNE] Iteration 300: error = 2.1112509, gradient norm = 0.0015467 (50 iterations in 2.792s)\n",
      "[t-SNE] Iteration 350: error = 1.7653061, gradient norm = 0.0008461 (50 iterations in 2.845s)\n"
     ]
    }
   ],
   "source": [
    "# 画像の前処理．標準化やらL2正規化やら．\n",
    "def preprocess_image(path, size):\n",
    "    img = cv2.imread(path, cv2.IMREAD_GRAYSCALE)\n",
    "    resized = cv2.resize(img, (size, size), cv2.INTER_LINEAR).astype(\"float\")\n",
    "    normalized = cv2.normalize(resized, None, 0.0, 1.0, cv2.NORM_MINMAX)\n",
    "    timg = normalized.reshape(np.prod(normalized.shape))\n",
    "    return timg/np.linalg.norm(timg) \n",
    "\n",
    "ROOT = \"./data/coil-20-proc\"\n",
    "ls = os.listdir(ROOT)\n",
    "\n",
    "# 名前からラベルを持って来ます．\n",
    "obj_ls = [name.split(\"_\")[0] for name in ls]\n",
    "\n",
    "ALL_IMAGE_PATH = [ROOT+\"/\"+path for path in ls]\n",
    "\n",
    "# 全画像に対して前処理する\n",
    "preprocess_images_as_vecs = [preprocess_image(path, 32) for path in ALL_IMAGE_PATH]\n",
    "\n",
    "# tsneを実行\n",
    "tsne = TSNE(\n",
    "    n_components=3, #ここが削減後の次元数です．\n",
    "    init='random',\n",
    "    random_state=101,\n",
    "    method='barnes_hut',\n",
    "    n_iter=1000,\n",
    "    verbose=2\n",
    ").fit_transform(preprocess_images_as_vecs)\n",
    "\n",
    "\n",
    "# 3Dの散布図が作れるScatter3dを使います．\n",
    "trace1 = go.Scatter3d(\n",
    "    x=tsne[:,0], # それぞれの次元をx, y, zにセットするだけです．\n",
    "    y=tsne[:,1],\n",
    "    z=tsne[:,2],\n",
    "    mode='markers',\n",
    "    marker=dict(\n",
    "        sizemode='diameter',\n",
    "        color = preprocessing.LabelEncoder().fit_transform(obj_ls),\n",
    "        colorscale = 'Portland',\n",
    "        line=dict(color='rgb(255, 255, 255)'),\n",
    "        opacity=0.9,\n",
    "        size=2 # ごちゃごちゃしないように小さめに設定するのがオススメです．\n",
    "    )\n",
    ")\n",
    "\n",
    "data=[trace1]\n",
    "layout=dict(height=700, width=600, title='coil-20 tsne exmaple')\n",
    "fig=dict(data=data, layout=layout)\n",
    "iplot(fig, filename='tsne_example')\n"
   ]
  },
  {
   "cell_type": "code",
   "execution_count": null,
   "metadata": {
    "collapsed": true
   },
   "outputs": [],
   "source": []
  }
 ],
 "metadata": {
  "kernelspec": {
   "display_name": "Python 3",
   "language": "python",
   "name": "python3"
  },
  "language_info": {
   "codemirror_mode": {
    "name": "ipython",
    "version": 3
   },
   "file_extension": ".py",
   "mimetype": "text/x-python",
   "name": "python",
   "nbconvert_exporter": "python",
   "pygments_lexer": "ipython3",
   "version": "3.6.2"
  }
 },
 "nbformat": 4,
 "nbformat_minor": 2
}
